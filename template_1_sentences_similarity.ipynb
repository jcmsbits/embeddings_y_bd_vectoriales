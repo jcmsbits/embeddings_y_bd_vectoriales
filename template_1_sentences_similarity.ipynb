{
 "cells": [
  {
   "cell_type": "markdown",
   "metadata": {},
   "source": [
    "SentenceTransformer es una libreria para pasar de texto a vectores"
   ]
  },
  {
   "cell_type": "code",
   "execution_count": 1,
   "metadata": {},
   "outputs": [
    {
     "name": "stderr",
     "output_type": "stream",
     "text": [
      "c:\\Users\\Home\\embeddings_y_bd_vectoriales\\emb_bd_vect\\Lib\\site-packages\\sentence_transformers\\cross_encoder\\CrossEncoder.py:13: TqdmWarning: IProgress not found. Please update jupyter and ipywidgets. See https://ipywidgets.readthedocs.io/en/stable/user_install.html\n",
      "  from tqdm.autonotebook import tqdm, trange\n"
     ]
    }
   ],
   "source": [
    "from sentence_transformers import SentenceTransformer, util"
   ]
  },
  {
   "cell_type": "markdown",
   "metadata": {},
   "source": [
    "Carga de modelo y procesamiento de embeddings"
   ]
  },
  {
   "cell_type": "code",
   "execution_count": 2,
   "metadata": {},
   "outputs": [],
   "source": [
    "# Lista de frases\n",
    "model = SentenceTransformer(\"all-MiniLM-l6-v2\")\n",
    "sentences = [\n",
    "    'el gato juega afuera',\n",
    "    'me gusta tocar guitarra',\n",
    "    'me encanta la pasta',\n",
    "    'esta pelicula estuvo asombrosa',\n",
    "    'el perro esta afuera',\n",
    "    'te gusta la musica?',\n",
    "    'estuvo muy buena la pelicula',\n",
    "    'te gustaria una pizza?'\n",
    "]\n",
    "# Cómputo de embeddings\n",
    "embeddings = model.encode(sentences)"
   ]
  },
  {
   "cell_type": "code",
   "execution_count": 3,
   "metadata": {},
   "outputs": [
    {
     "data": {
      "text/plain": [
       "array([[-0.03232959,  0.11775173, -0.04929115, ..., -0.00081667,\n",
       "        -0.03978721, -0.02792935],\n",
       "       [-0.03385796,  0.0073281 , -0.04184827, ...,  0.04272253,\n",
       "        -0.02279516, -0.06084861],\n",
       "       [-0.05483963, -0.03731456, -0.01410463, ...,  0.11729012,\n",
       "         0.07456186, -0.09744942],\n",
       "       ...,\n",
       "       [ 0.02612727,  0.00146153,  0.04047635, ...,  0.04944176,\n",
       "         0.01540562, -0.0626469 ],\n",
       "       [ 0.0229008 ,  0.00147287,  0.00138931, ...,  0.08682206,\n",
       "         0.08835245, -0.13047364],\n",
       "       [-0.06596524,  0.03551987, -0.04087374, ...,  0.09201564,\n",
       "         0.0007654 , -0.08679891]], dtype=float32)"
      ]
     },
     "execution_count": 3,
     "metadata": {},
     "output_type": "execute_result"
    }
   ],
   "source": [
    "embeddings"
   ]
  },
  {
   "cell_type": "code",
   "execution_count": 5,
   "metadata": {},
   "outputs": [
    {
     "data": {
      "text/plain": [
       "(8, 384)"
      ]
     },
     "execution_count": 5,
     "metadata": {},
     "output_type": "execute_result"
    }
   ],
   "source": [
    "embeddings.shape"
   ]
  },
  {
   "cell_type": "markdown",
   "metadata": {},
   "source": [
    "Comparar frases con modelo de embeddings con similitud por cosenos"
   ]
  },
  {
   "cell_type": "code",
   "execution_count": 21,
   "metadata": {},
   "outputs": [
    {
     "name": "stdout",
     "output_type": "stream",
     "text": [
      "Cosine scores:  torch.Size([8, 8])\n",
      "Longitud cosine_scores:  8\n",
      "[{'index': [0, 1], 'score': tensor(0.4441)}, {'index': [0, 2], 'score': tensor(0.4348)}, {'index': [0, 3], 'score': tensor(0.4453)}, {'index': [0, 4], 'score': tensor(0.6610)}, {'index': [0, 5], 'score': tensor(0.4885)}, {'index': [0, 6], 'score': tensor(0.4515)}, {'index': [0, 7], 'score': tensor(0.4513)}, {'index': [1, 2], 'score': tensor(0.4452)}, {'index': [1, 3], 'score': tensor(0.3903)}, {'index': [1, 4], 'score': tensor(0.4293)}, {'index': [1, 5], 'score': tensor(0.6238)}, {'index': [1, 6], 'score': tensor(0.3939)}, {'index': [1, 7], 'score': tensor(0.5471)}, {'index': [2, 3], 'score': tensor(0.5131)}, {'index': [2, 4], 'score': tensor(0.4545)}, {'index': [2, 5], 'score': tensor(0.5667)}, {'index': [2, 6], 'score': tensor(0.5273)}, {'index': [2, 7], 'score': tensor(0.6540)}, {'index': [3, 4], 'score': tensor(0.6188)}, {'index': [3, 5], 'score': tensor(0.4795)}, {'index': [3, 6], 'score': tensor(0.7083)}, {'index': [3, 7], 'score': tensor(0.5322)}, {'index': [4, 5], 'score': tensor(0.4653)}, {'index': [4, 6], 'score': tensor(0.5354)}, {'index': [4, 7], 'score': tensor(0.4627)}, {'index': [5, 6], 'score': tensor(0.5236)}, {'index': [5, 7], 'score': tensor(0.6989)}, {'index': [6, 7], 'score': tensor(0.5305)}]\n",
      "esta pelicula estuvo asombrosa ====> estuvo muy buena la pelicula\n",
      "te gusto la musica? ====> te gustaria una pizza?\n",
      "el gato juega afuera ====> el perro esta afuera\n",
      "me encanta la pasta ====> te gustaria una pizza?\n",
      "me gusta tocar guitarra ====> te gusto la musica?\n"
     ]
    }
   ],
   "source": [
    "# Cálculo de similitudes por cosenos para cada frase con todas las demás frases\n",
    "cosine_scores = util.cos_sim(embeddings, embeddings)\n",
    "print(\"Cosine scores: \", cosine_scores.shape)\n",
    "print(\"Longitud cosine_scores: \", len(cosine_scores))\n",
    "\n",
    "# Encuentra las parejas con los puntajes de similitud del coseno más altos\n",
    "# Guardando en un diccionario la puntuación de cada sentencia con las demás\n",
    "pairs = []\n",
    "for i in range(len(cosine_scores) - 1):\n",
    "    for j in range(i+1, len(cosine_scores)):\n",
    "        pairs.append({'index': [i, j], 'score' : cosine_scores[i][j]})\n",
    "\n",
    "print(pairs)\n",
    "# Ordena los puntajes en orden descendente.\n",
    "pairs = sorted(pairs, key= lambda x: x[\"score\"], reverse=True )\n",
    "\n",
    "for pair in pairs[:5]:\n",
    "    i, j = pair[\"index\"]\n",
    "    print(\"{} ====> {}\".format(sentences[i], sentences[j]))\n"
   ]
  }
 ],
 "metadata": {
  "kernelspec": {
   "display_name": "emb_bd_vect",
   "language": "python",
   "name": "python3"
  },
  "language_info": {
   "codemirror_mode": {
    "name": "ipython",
    "version": 3
   },
   "file_extension": ".py",
   "mimetype": "text/x-python",
   "name": "python",
   "nbconvert_exporter": "python",
   "pygments_lexer": "ipython3",
   "version": "3.12.3"
  }
 },
 "nbformat": 4,
 "nbformat_minor": 2
}
