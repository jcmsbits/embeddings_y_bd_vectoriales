{
 "cells": [
  {
   "cell_type": "code",
   "execution_count": 1,
   "metadata": {},
   "outputs": [],
   "source": [
    "import numpy as np"
   ]
  },
  {
   "cell_type": "code",
   "execution_count": 2,
   "metadata": {},
   "outputs": [],
   "source": [
    "gato = np.array([0.9,0.8,0.2])\n",
    "perro = np.array([0.8,0.85,0.15])\n",
    "computadora = np.array([0.1,0.3,0.9])"
   ]
  },
  {
   "cell_type": "markdown",
   "metadata": {},
   "source": [
    "Dot Product"
   ]
  },
  {
   "cell_type": "code",
   "execution_count": 3,
   "metadata": {},
   "outputs": [
    {
     "name": "stdout",
     "output_type": "stream",
     "text": [
      "Producto punto gato-perro 1.4300000000000002\n",
      "Producto punto gato-computadora 0.51\n"
     ]
    }
   ],
   "source": [
    "dot_product_gato_perro = np.dot(gato, perro)\n",
    "dot_product_gato_computadora = gato @ computadora\n",
    "\n",
    "print(\"Producto punto gato-perro\", dot_product_gato_perro)\n",
    "print(\"Producto punto gato-computadora\", dot_product_gato_computadora)"
   ]
  },
  {
   "cell_type": "markdown",
   "metadata": {},
   "source": [
    "Ecludidean distance"
   ]
  },
  {
   "cell_type": "code",
   "execution_count": 4,
   "metadata": {},
   "outputs": [
    {
     "name": "stdout",
     "output_type": "stream",
     "text": [
      "Distancia Euclediana 0.12247448713915887\n"
     ]
    }
   ],
   "source": [
    "euclidean_distance = np.linalg.norm(gato-perro)\n",
    "print(\"Distancia Euclediana entre gato-perro\", euclidean_distance)"
   ]
  },
  {
   "cell_type": "code",
   "execution_count": 6,
   "metadata": {},
   "outputs": [
    {
     "name": "stdout",
     "output_type": "stream",
     "text": [
      "Distancia Euclediana entre gato-computadora 1.174734012447073\n"
     ]
    }
   ],
   "source": [
    "euclidean_distance = np.linalg.norm(gato-computadora)\n",
    "print(\"Distancia Euclediana entre gato-computadora\",euclidean_distance)"
   ]
  },
  {
   "cell_type": "markdown",
   "metadata": {},
   "source": [
    "Cosine Similarity"
   ]
  },
  {
   "cell_type": "code",
   "execution_count": 7,
   "metadata": {},
   "outputs": [
    {
     "name": "stdout",
     "output_type": "stream",
     "text": [
      "Similitud por coseno entre gato y perro: 0.9954467122628464\n"
     ]
    }
   ],
   "source": [
    "dot_product = np.dot(gato, perro)\n",
    "norm_gato = np.linalg.norm(gato)\n",
    "norm_perro = np.linalg.norm(perro)\n",
    "\n",
    "cosine_similarity = dot_product/(norm_gato * norm_perro)\n",
    "print(f\"Similitud por coseno entre gato y perro: {cosine_similarity}\")"
   ]
  }
 ],
 "metadata": {
  "kernelspec": {
   "display_name": "emb_bd_vect",
   "language": "python",
   "name": "python3"
  },
  "language_info": {
   "codemirror_mode": {
    "name": "ipython",
    "version": 3
   },
   "file_extension": ".py",
   "mimetype": "text/x-python",
   "name": "python",
   "nbconvert_exporter": "python",
   "pygments_lexer": "ipython3",
   "version": "3.12.3"
  }
 },
 "nbformat": 4,
 "nbformat_minor": 2
}
